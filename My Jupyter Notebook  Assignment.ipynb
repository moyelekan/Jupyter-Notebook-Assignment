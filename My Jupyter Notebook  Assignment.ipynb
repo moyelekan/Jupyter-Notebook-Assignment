{
    "cells": [
        {
            "cell_type": "markdown",
            "metadata": {
                "collapsed": true
            },
            "source": "# My Jupyter Notebook on IBM Watson Studio"
        },
        {
            "cell_type": "markdown",
            "metadata": {},
            "source": "**Wale Matthew Oyelekan**   \nData Scientist   "
        },
        {
            "cell_type": "markdown",
            "metadata": {},
            "source": "*I am interested in Data Science because i want my contribution to transportation management to reduce transportation fares for commuter* "
        },
        {
            "cell_type": "markdown",
            "metadata": {},
            "source": "### My code is to perform a simple Arithmetics of numbers"
        },
        {
            "cell_type": "code",
            "execution_count": 3,
            "metadata": {},
            "outputs": [
                {
                    "name": "stdout",
                    "output_type": "stream",
                    "text": "My answer = 10\nThank you for your audience\n"
                }
            ],
            "source": "a=2\nb=4\nc=6\nint_Arithmtics = c-b+a*b\nprint(\"My answer =\", int_Arithmtics)\nprint(\"Thank you for your audience\")"
        },
        {
            "cell_type": "markdown",
            "metadata": {},
            "source": ">This is a blockquote.  This line <br>break here\n\n- Cheese\n- Carrot\n- Coconut\n\n![](https://www.python.org/static/community_logos/python-logo-master-v3-TM.png \u201cPython Logo\u201d)"
        }
    ],
    "metadata": {
        "kernelspec": {
            "display_name": "Python 3.9",
            "language": "python",
            "name": "python3"
        },
        "language_info": {
            "codemirror_mode": {
                "name": "ipython",
                "version": 3
            },
            "file_extension": ".py",
            "mimetype": "text/x-python",
            "name": "python",
            "nbconvert_exporter": "python",
            "pygments_lexer": "ipython3",
            "version": "3.9.12"
        }
    },
    "nbformat": 4,
    "nbformat_minor": 1
}